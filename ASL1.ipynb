{
  "nbformat": 4,
  "nbformat_minor": 0,
  "metadata": {
    "colab": {
      "name": "ASL1.ipynb",
      "provenance": [],
      "collapsed_sections": [],
      "authorship_tag": "ABX9TyNdUUn/5HFVq19XQiZqZgqm",
      "include_colab_link": true
    },
    "kernelspec": {
      "name": "python3",
      "display_name": "Python 3"
    },
    "accelerator": "GPU"
  },
  "cells": [
    {
      "cell_type": "markdown",
      "metadata": {
        "id": "view-in-github",
        "colab_type": "text"
      },
      "source": [
        "<a href=\"https://colab.research.google.com/github/mihir-mj/ProjectIdeas/blob/master/ASL1.ipynb\" target=\"_parent\"><img src=\"https://colab.research.google.com/assets/colab-badge.svg\" alt=\"Open In Colab\"/></a>"
      ]
    },
    {
      "cell_type": "code",
      "metadata": {
        "id": "Xd9fBOYlALOO",
        "colab_type": "code",
        "outputId": "bbc206e2-a063-4f74-bab1-68a8a11f4160",
        "colab": {
          "base_uri": "https://localhost:8080/",
          "height": 81
        }
      },
      "source": [
        "import keras\n",
        "import numpy as np\n",
        "import pandas as pd\n",
        "import cv2 \n",
        "from keras.models import Sequential \n",
        "from keras.layers import Conv2D,MaxPooling2D, Dense,Flatten\n",
        "from keras.datasets import mnist \n",
        "import matplotlib.pyplot as plt\n",
        "from keras.utils import np_utils\n",
        "from keras.optimizers import SGD"
      ],
      "execution_count": 0,
      "outputs": [
        {
          "output_type": "stream",
          "text": [
            "Using TensorFlow backend.\n"
          ],
          "name": "stderr"
        },
        {
          "output_type": "display_data",
          "data": {
            "text/html": [
              "<p style=\"color: red;\">\n",
              "The default version of TensorFlow in Colab will soon switch to TensorFlow 2.x.<br>\n",
              "We recommend you <a href=\"https://www.tensorflow.org/guide/migrate\" target=\"_blank\">upgrade</a> now \n",
              "or ensure your notebook will continue to use TensorFlow 1.x via the <code>%tensorflow_version 1.x</code> magic:\n",
              "<a href=\"https://colab.research.google.com/notebooks/tensorflow_version.ipynb\" target=\"_blank\">more info</a>.</p>\n"
            ],
            "text/plain": [
              "<IPython.core.display.HTML object>"
            ]
          },
          "metadata": {
            "tags": []
          }
        }
      ]
    },
    {
      "cell_type": "code",
      "metadata": {
        "id": "quKxmpNgA-VT",
        "colab_type": "code",
        "outputId": "200445c3-ffac-4278-9e46-83a43340bccc",
        "colab": {
          "base_uri": "https://localhost:8080/",
          "height": 280
        }
      },
      "source": [
        "!pip install PyDrive"
      ],
      "execution_count": 0,
      "outputs": [
        {
          "output_type": "stream",
          "text": [
            "Requirement already satisfied: PyDrive in /usr/local/lib/python3.6/dist-packages (1.3.1)\n",
            "Requirement already satisfied: oauth2client>=4.0.0 in /usr/local/lib/python3.6/dist-packages (from PyDrive) (4.1.3)\n",
            "Requirement already satisfied: google-api-python-client>=1.2 in /usr/local/lib/python3.6/dist-packages (from PyDrive) (1.7.12)\n",
            "Requirement already satisfied: PyYAML>=3.0 in /usr/local/lib/python3.6/dist-packages (from PyDrive) (3.13)\n",
            "Requirement already satisfied: rsa>=3.1.4 in /usr/local/lib/python3.6/dist-packages (from oauth2client>=4.0.0->PyDrive) (4.0)\n",
            "Requirement already satisfied: six>=1.6.1 in /usr/local/lib/python3.6/dist-packages (from oauth2client>=4.0.0->PyDrive) (1.12.0)\n",
            "Requirement already satisfied: pyasn1-modules>=0.0.5 in /usr/local/lib/python3.6/dist-packages (from oauth2client>=4.0.0->PyDrive) (0.2.8)\n",
            "Requirement already satisfied: httplib2>=0.9.1 in /usr/local/lib/python3.6/dist-packages (from oauth2client>=4.0.0->PyDrive) (0.17.0)\n",
            "Requirement already satisfied: pyasn1>=0.1.7 in /usr/local/lib/python3.6/dist-packages (from oauth2client>=4.0.0->PyDrive) (0.4.8)\n",
            "Requirement already satisfied: uritemplate<4dev,>=3.0.0 in /usr/local/lib/python3.6/dist-packages (from google-api-python-client>=1.2->PyDrive) (3.0.1)\n",
            "Requirement already satisfied: google-auth>=1.4.1 in /usr/local/lib/python3.6/dist-packages (from google-api-python-client>=1.2->PyDrive) (1.7.2)\n",
            "Requirement already satisfied: google-auth-httplib2>=0.0.3 in /usr/local/lib/python3.6/dist-packages (from google-api-python-client>=1.2->PyDrive) (0.0.3)\n",
            "Requirement already satisfied: cachetools<3.2,>=2.0.0 in /usr/local/lib/python3.6/dist-packages (from google-auth>=1.4.1->google-api-python-client>=1.2->PyDrive) (3.1.1)\n",
            "Requirement already satisfied: setuptools>=40.3.0 in /usr/local/lib/python3.6/dist-packages (from google-auth>=1.4.1->google-api-python-client>=1.2->PyDrive) (46.0.0)\n"
          ],
          "name": "stdout"
        }
      ]
    },
    {
      "cell_type": "code",
      "metadata": {
        "id": "2VLCUUsxCd2B",
        "colab_type": "code",
        "colab": {}
      },
      "source": [
        "import os\n",
        "from pydrive.auth import GoogleAuth\n",
        "from pydrive.drive import GoogleDrive\n",
        "from google.colab import auth\n",
        "from oauth2client.client import GoogleCredentials"
      ],
      "execution_count": 0,
      "outputs": []
    },
    {
      "cell_type": "code",
      "metadata": {
        "id": "Mnd_VDfKCiw5",
        "colab_type": "code",
        "colab": {}
      },
      "source": [
        "auth.authenticate_user()\n",
        "gauth = GoogleAuth()\n",
        "gauth.credentials = GoogleCredentials.get_application_default()\n",
        "drive = GoogleDrive(gauth)"
      ],
      "execution_count": 0,
      "outputs": []
    },
    {
      "cell_type": "code",
      "metadata": {
        "id": "rgIu6EoCClhY",
        "colab_type": "code",
        "colab": {}
      },
      "source": [
        "download = drive.CreateFile({'id': '1yaOJJbHLeodcpHJEnCs-xyXe9364byjn'})\n",
        "download.GetContentFile('train.csv')\n",
        "train = pd.read_csv('train.csv')"
      ],
      "execution_count": 0,
      "outputs": []
    },
    {
      "cell_type": "code",
      "metadata": {
        "id": "_KhqTaDBC7FR",
        "colab_type": "code",
        "colab": {}
      },
      "source": [
        "download = drive.CreateFile({'id': '1UiJkIHqYTzYlTq_ljdRBwM4GBFUCbf3u'})\n",
        "download.GetContentFile('test.csv')\n",
        "test = pd.read_csv('test.csv')"
      ],
      "execution_count": 0,
      "outputs": []
    },
    {
      "cell_type": "code",
      "metadata": {
        "id": "dVgnwpazDoD-",
        "colab_type": "code",
        "outputId": "02b0c6ad-e6fd-4b78-f530-12273d0357f3",
        "colab": {
          "base_uri": "https://localhost:8080/",
          "height": 489
        }
      },
      "source": [
        "display(train.info())\n",
        "\n",
        "display(test.info())\n",
        "\n",
        "display(train.head(n = 2))\n",
        "display(test.head(n = 2))"
      ],
      "execution_count": 0,
      "outputs": [
        {
          "output_type": "stream",
          "text": [
            "<class 'pandas.core.frame.DataFrame'>\n",
            "RangeIndex: 27455 entries, 0 to 27454\n",
            "Columns: 785 entries, label to pixel784\n",
            "dtypes: int64(785)\n",
            "memory usage: 164.4 MB\n"
          ],
          "name": "stdout"
        },
        {
          "output_type": "display_data",
          "data": {
            "text/plain": [
              "None"
            ]
          },
          "metadata": {
            "tags": []
          }
        },
        {
          "output_type": "stream",
          "text": [
            "<class 'pandas.core.frame.DataFrame'>\n",
            "RangeIndex: 7172 entries, 0 to 7171\n",
            "Columns: 785 entries, label to pixel784\n",
            "dtypes: int64(785)\n",
            "memory usage: 43.0 MB\n"
          ],
          "name": "stdout"
        },
        {
          "output_type": "display_data",
          "data": {
            "text/plain": [
              "None"
            ]
          },
          "metadata": {
            "tags": []
          }
        },
        {
          "output_type": "display_data",
          "data": {
            "text/html": [
              "<div>\n",
              "<style scoped>\n",
              "    .dataframe tbody tr th:only-of-type {\n",
              "        vertical-align: middle;\n",
              "    }\n",
              "\n",
              "    .dataframe tbody tr th {\n",
              "        vertical-align: top;\n",
              "    }\n",
              "\n",
              "    .dataframe thead th {\n",
              "        text-align: right;\n",
              "    }\n",
              "</style>\n",
              "<table border=\"1\" class=\"dataframe\">\n",
              "  <thead>\n",
              "    <tr style=\"text-align: right;\">\n",
              "      <th></th>\n",
              "      <th>label</th>\n",
              "      <th>pixel1</th>\n",
              "      <th>pixel2</th>\n",
              "      <th>pixel3</th>\n",
              "      <th>pixel4</th>\n",
              "      <th>pixel5</th>\n",
              "      <th>pixel6</th>\n",
              "      <th>pixel7</th>\n",
              "      <th>pixel8</th>\n",
              "      <th>pixel9</th>\n",
              "      <th>pixel10</th>\n",
              "      <th>pixel11</th>\n",
              "      <th>pixel12</th>\n",
              "      <th>pixel13</th>\n",
              "      <th>pixel14</th>\n",
              "      <th>pixel15</th>\n",
              "      <th>pixel16</th>\n",
              "      <th>pixel17</th>\n",
              "      <th>pixel18</th>\n",
              "      <th>pixel19</th>\n",
              "      <th>pixel20</th>\n",
              "      <th>pixel21</th>\n",
              "      <th>pixel22</th>\n",
              "      <th>pixel23</th>\n",
              "      <th>pixel24</th>\n",
              "      <th>pixel25</th>\n",
              "      <th>pixel26</th>\n",
              "      <th>pixel27</th>\n",
              "      <th>pixel28</th>\n",
              "      <th>pixel29</th>\n",
              "      <th>pixel30</th>\n",
              "      <th>pixel31</th>\n",
              "      <th>pixel32</th>\n",
              "      <th>pixel33</th>\n",
              "      <th>pixel34</th>\n",
              "      <th>pixel35</th>\n",
              "      <th>pixel36</th>\n",
              "      <th>pixel37</th>\n",
              "      <th>pixel38</th>\n",
              "      <th>pixel39</th>\n",
              "      <th>...</th>\n",
              "      <th>pixel745</th>\n",
              "      <th>pixel746</th>\n",
              "      <th>pixel747</th>\n",
              "      <th>pixel748</th>\n",
              "      <th>pixel749</th>\n",
              "      <th>pixel750</th>\n",
              "      <th>pixel751</th>\n",
              "      <th>pixel752</th>\n",
              "      <th>pixel753</th>\n",
              "      <th>pixel754</th>\n",
              "      <th>pixel755</th>\n",
              "      <th>pixel756</th>\n",
              "      <th>pixel757</th>\n",
              "      <th>pixel758</th>\n",
              "      <th>pixel759</th>\n",
              "      <th>pixel760</th>\n",
              "      <th>pixel761</th>\n",
              "      <th>pixel762</th>\n",
              "      <th>pixel763</th>\n",
              "      <th>pixel764</th>\n",
              "      <th>pixel765</th>\n",
              "      <th>pixel766</th>\n",
              "      <th>pixel767</th>\n",
              "      <th>pixel768</th>\n",
              "      <th>pixel769</th>\n",
              "      <th>pixel770</th>\n",
              "      <th>pixel771</th>\n",
              "      <th>pixel772</th>\n",
              "      <th>pixel773</th>\n",
              "      <th>pixel774</th>\n",
              "      <th>pixel775</th>\n",
              "      <th>pixel776</th>\n",
              "      <th>pixel777</th>\n",
              "      <th>pixel778</th>\n",
              "      <th>pixel779</th>\n",
              "      <th>pixel780</th>\n",
              "      <th>pixel781</th>\n",
              "      <th>pixel782</th>\n",
              "      <th>pixel783</th>\n",
              "      <th>pixel784</th>\n",
              "    </tr>\n",
              "  </thead>\n",
              "  <tbody>\n",
              "    <tr>\n",
              "      <th>0</th>\n",
              "      <td>3</td>\n",
              "      <td>107</td>\n",
              "      <td>118</td>\n",
              "      <td>127</td>\n",
              "      <td>134</td>\n",
              "      <td>139</td>\n",
              "      <td>143</td>\n",
              "      <td>146</td>\n",
              "      <td>150</td>\n",
              "      <td>153</td>\n",
              "      <td>156</td>\n",
              "      <td>158</td>\n",
              "      <td>160</td>\n",
              "      <td>163</td>\n",
              "      <td>165</td>\n",
              "      <td>159</td>\n",
              "      <td>166</td>\n",
              "      <td>168</td>\n",
              "      <td>170</td>\n",
              "      <td>170</td>\n",
              "      <td>171</td>\n",
              "      <td>171</td>\n",
              "      <td>171</td>\n",
              "      <td>172</td>\n",
              "      <td>171</td>\n",
              "      <td>171</td>\n",
              "      <td>170</td>\n",
              "      <td>170</td>\n",
              "      <td>169</td>\n",
              "      <td>111</td>\n",
              "      <td>121</td>\n",
              "      <td>129</td>\n",
              "      <td>135</td>\n",
              "      <td>141</td>\n",
              "      <td>144</td>\n",
              "      <td>148</td>\n",
              "      <td>151</td>\n",
              "      <td>154</td>\n",
              "      <td>157</td>\n",
              "      <td>160</td>\n",
              "      <td>...</td>\n",
              "      <td>205</td>\n",
              "      <td>206</td>\n",
              "      <td>206</td>\n",
              "      <td>207</td>\n",
              "      <td>207</td>\n",
              "      <td>206</td>\n",
              "      <td>206</td>\n",
              "      <td>204</td>\n",
              "      <td>205</td>\n",
              "      <td>204</td>\n",
              "      <td>203</td>\n",
              "      <td>202</td>\n",
              "      <td>142</td>\n",
              "      <td>151</td>\n",
              "      <td>160</td>\n",
              "      <td>172</td>\n",
              "      <td>196</td>\n",
              "      <td>188</td>\n",
              "      <td>188</td>\n",
              "      <td>190</td>\n",
              "      <td>135</td>\n",
              "      <td>96</td>\n",
              "      <td>86</td>\n",
              "      <td>77</td>\n",
              "      <td>77</td>\n",
              "      <td>79</td>\n",
              "      <td>176</td>\n",
              "      <td>205</td>\n",
              "      <td>207</td>\n",
              "      <td>207</td>\n",
              "      <td>207</td>\n",
              "      <td>207</td>\n",
              "      <td>207</td>\n",
              "      <td>207</td>\n",
              "      <td>206</td>\n",
              "      <td>206</td>\n",
              "      <td>206</td>\n",
              "      <td>204</td>\n",
              "      <td>203</td>\n",
              "      <td>202</td>\n",
              "    </tr>\n",
              "    <tr>\n",
              "      <th>1</th>\n",
              "      <td>6</td>\n",
              "      <td>155</td>\n",
              "      <td>157</td>\n",
              "      <td>156</td>\n",
              "      <td>156</td>\n",
              "      <td>156</td>\n",
              "      <td>157</td>\n",
              "      <td>156</td>\n",
              "      <td>158</td>\n",
              "      <td>158</td>\n",
              "      <td>157</td>\n",
              "      <td>158</td>\n",
              "      <td>156</td>\n",
              "      <td>154</td>\n",
              "      <td>154</td>\n",
              "      <td>153</td>\n",
              "      <td>152</td>\n",
              "      <td>151</td>\n",
              "      <td>149</td>\n",
              "      <td>149</td>\n",
              "      <td>148</td>\n",
              "      <td>147</td>\n",
              "      <td>146</td>\n",
              "      <td>144</td>\n",
              "      <td>142</td>\n",
              "      <td>143</td>\n",
              "      <td>138</td>\n",
              "      <td>92</td>\n",
              "      <td>108</td>\n",
              "      <td>158</td>\n",
              "      <td>159</td>\n",
              "      <td>159</td>\n",
              "      <td>159</td>\n",
              "      <td>160</td>\n",
              "      <td>160</td>\n",
              "      <td>160</td>\n",
              "      <td>160</td>\n",
              "      <td>160</td>\n",
              "      <td>160</td>\n",
              "      <td>160</td>\n",
              "      <td>...</td>\n",
              "      <td>100</td>\n",
              "      <td>78</td>\n",
              "      <td>120</td>\n",
              "      <td>157</td>\n",
              "      <td>168</td>\n",
              "      <td>107</td>\n",
              "      <td>99</td>\n",
              "      <td>121</td>\n",
              "      <td>133</td>\n",
              "      <td>97</td>\n",
              "      <td>95</td>\n",
              "      <td>120</td>\n",
              "      <td>135</td>\n",
              "      <td>116</td>\n",
              "      <td>95</td>\n",
              "      <td>79</td>\n",
              "      <td>69</td>\n",
              "      <td>86</td>\n",
              "      <td>139</td>\n",
              "      <td>173</td>\n",
              "      <td>200</td>\n",
              "      <td>185</td>\n",
              "      <td>175</td>\n",
              "      <td>198</td>\n",
              "      <td>124</td>\n",
              "      <td>118</td>\n",
              "      <td>94</td>\n",
              "      <td>140</td>\n",
              "      <td>133</td>\n",
              "      <td>84</td>\n",
              "      <td>69</td>\n",
              "      <td>149</td>\n",
              "      <td>128</td>\n",
              "      <td>87</td>\n",
              "      <td>94</td>\n",
              "      <td>163</td>\n",
              "      <td>175</td>\n",
              "      <td>103</td>\n",
              "      <td>135</td>\n",
              "      <td>149</td>\n",
              "    </tr>\n",
              "  </tbody>\n",
              "</table>\n",
              "<p>2 rows × 785 columns</p>\n",
              "</div>"
            ],
            "text/plain": [
              "   label  pixel1  pixel2  pixel3  ...  pixel781  pixel782  pixel783  pixel784\n",
              "0      3     107     118     127  ...       206       204       203       202\n",
              "1      6     155     157     156  ...       175       103       135       149\n",
              "\n",
              "[2 rows x 785 columns]"
            ]
          },
          "metadata": {
            "tags": []
          }
        },
        {
          "output_type": "display_data",
          "data": {
            "text/html": [
              "<div>\n",
              "<style scoped>\n",
              "    .dataframe tbody tr th:only-of-type {\n",
              "        vertical-align: middle;\n",
              "    }\n",
              "\n",
              "    .dataframe tbody tr th {\n",
              "        vertical-align: top;\n",
              "    }\n",
              "\n",
              "    .dataframe thead th {\n",
              "        text-align: right;\n",
              "    }\n",
              "</style>\n",
              "<table border=\"1\" class=\"dataframe\">\n",
              "  <thead>\n",
              "    <tr style=\"text-align: right;\">\n",
              "      <th></th>\n",
              "      <th>label</th>\n",
              "      <th>pixel1</th>\n",
              "      <th>pixel2</th>\n",
              "      <th>pixel3</th>\n",
              "      <th>pixel4</th>\n",
              "      <th>pixel5</th>\n",
              "      <th>pixel6</th>\n",
              "      <th>pixel7</th>\n",
              "      <th>pixel8</th>\n",
              "      <th>pixel9</th>\n",
              "      <th>pixel10</th>\n",
              "      <th>pixel11</th>\n",
              "      <th>pixel12</th>\n",
              "      <th>pixel13</th>\n",
              "      <th>pixel14</th>\n",
              "      <th>pixel15</th>\n",
              "      <th>pixel16</th>\n",
              "      <th>pixel17</th>\n",
              "      <th>pixel18</th>\n",
              "      <th>pixel19</th>\n",
              "      <th>pixel20</th>\n",
              "      <th>pixel21</th>\n",
              "      <th>pixel22</th>\n",
              "      <th>pixel23</th>\n",
              "      <th>pixel24</th>\n",
              "      <th>pixel25</th>\n",
              "      <th>pixel26</th>\n",
              "      <th>pixel27</th>\n",
              "      <th>pixel28</th>\n",
              "      <th>pixel29</th>\n",
              "      <th>pixel30</th>\n",
              "      <th>pixel31</th>\n",
              "      <th>pixel32</th>\n",
              "      <th>pixel33</th>\n",
              "      <th>pixel34</th>\n",
              "      <th>pixel35</th>\n",
              "      <th>pixel36</th>\n",
              "      <th>pixel37</th>\n",
              "      <th>pixel38</th>\n",
              "      <th>pixel39</th>\n",
              "      <th>...</th>\n",
              "      <th>pixel745</th>\n",
              "      <th>pixel746</th>\n",
              "      <th>pixel747</th>\n",
              "      <th>pixel748</th>\n",
              "      <th>pixel749</th>\n",
              "      <th>pixel750</th>\n",
              "      <th>pixel751</th>\n",
              "      <th>pixel752</th>\n",
              "      <th>pixel753</th>\n",
              "      <th>pixel754</th>\n",
              "      <th>pixel755</th>\n",
              "      <th>pixel756</th>\n",
              "      <th>pixel757</th>\n",
              "      <th>pixel758</th>\n",
              "      <th>pixel759</th>\n",
              "      <th>pixel760</th>\n",
              "      <th>pixel761</th>\n",
              "      <th>pixel762</th>\n",
              "      <th>pixel763</th>\n",
              "      <th>pixel764</th>\n",
              "      <th>pixel765</th>\n",
              "      <th>pixel766</th>\n",
              "      <th>pixel767</th>\n",
              "      <th>pixel768</th>\n",
              "      <th>pixel769</th>\n",
              "      <th>pixel770</th>\n",
              "      <th>pixel771</th>\n",
              "      <th>pixel772</th>\n",
              "      <th>pixel773</th>\n",
              "      <th>pixel774</th>\n",
              "      <th>pixel775</th>\n",
              "      <th>pixel776</th>\n",
              "      <th>pixel777</th>\n",
              "      <th>pixel778</th>\n",
              "      <th>pixel779</th>\n",
              "      <th>pixel780</th>\n",
              "      <th>pixel781</th>\n",
              "      <th>pixel782</th>\n",
              "      <th>pixel783</th>\n",
              "      <th>pixel784</th>\n",
              "    </tr>\n",
              "  </thead>\n",
              "  <tbody>\n",
              "    <tr>\n",
              "      <th>0</th>\n",
              "      <td>6</td>\n",
              "      <td>149</td>\n",
              "      <td>149</td>\n",
              "      <td>150</td>\n",
              "      <td>150</td>\n",
              "      <td>150</td>\n",
              "      <td>151</td>\n",
              "      <td>151</td>\n",
              "      <td>150</td>\n",
              "      <td>151</td>\n",
              "      <td>152</td>\n",
              "      <td>152</td>\n",
              "      <td>152</td>\n",
              "      <td>152</td>\n",
              "      <td>152</td>\n",
              "      <td>153</td>\n",
              "      <td>153</td>\n",
              "      <td>151</td>\n",
              "      <td>152</td>\n",
              "      <td>152</td>\n",
              "      <td>153</td>\n",
              "      <td>152</td>\n",
              "      <td>152</td>\n",
              "      <td>151</td>\n",
              "      <td>151</td>\n",
              "      <td>150</td>\n",
              "      <td>150</td>\n",
              "      <td>150</td>\n",
              "      <td>149</td>\n",
              "      <td>150</td>\n",
              "      <td>150</td>\n",
              "      <td>150</td>\n",
              "      <td>152</td>\n",
              "      <td>152</td>\n",
              "      <td>151</td>\n",
              "      <td>152</td>\n",
              "      <td>152</td>\n",
              "      <td>152</td>\n",
              "      <td>152</td>\n",
              "      <td>152</td>\n",
              "      <td>...</td>\n",
              "      <td>131</td>\n",
              "      <td>134</td>\n",
              "      <td>144</td>\n",
              "      <td>147</td>\n",
              "      <td>125</td>\n",
              "      <td>87</td>\n",
              "      <td>87</td>\n",
              "      <td>103</td>\n",
              "      <td>107</td>\n",
              "      <td>110</td>\n",
              "      <td>116</td>\n",
              "      <td>113</td>\n",
              "      <td>75</td>\n",
              "      <td>74</td>\n",
              "      <td>74</td>\n",
              "      <td>74</td>\n",
              "      <td>76</td>\n",
              "      <td>74</td>\n",
              "      <td>82</td>\n",
              "      <td>134</td>\n",
              "      <td>168</td>\n",
              "      <td>155</td>\n",
              "      <td>146</td>\n",
              "      <td>137</td>\n",
              "      <td>145</td>\n",
              "      <td>146</td>\n",
              "      <td>149</td>\n",
              "      <td>135</td>\n",
              "      <td>124</td>\n",
              "      <td>125</td>\n",
              "      <td>138</td>\n",
              "      <td>148</td>\n",
              "      <td>127</td>\n",
              "      <td>89</td>\n",
              "      <td>82</td>\n",
              "      <td>96</td>\n",
              "      <td>106</td>\n",
              "      <td>112</td>\n",
              "      <td>120</td>\n",
              "      <td>107</td>\n",
              "    </tr>\n",
              "    <tr>\n",
              "      <th>1</th>\n",
              "      <td>5</td>\n",
              "      <td>126</td>\n",
              "      <td>128</td>\n",
              "      <td>131</td>\n",
              "      <td>132</td>\n",
              "      <td>133</td>\n",
              "      <td>134</td>\n",
              "      <td>135</td>\n",
              "      <td>135</td>\n",
              "      <td>136</td>\n",
              "      <td>138</td>\n",
              "      <td>137</td>\n",
              "      <td>137</td>\n",
              "      <td>138</td>\n",
              "      <td>138</td>\n",
              "      <td>139</td>\n",
              "      <td>137</td>\n",
              "      <td>142</td>\n",
              "      <td>140</td>\n",
              "      <td>138</td>\n",
              "      <td>139</td>\n",
              "      <td>137</td>\n",
              "      <td>137</td>\n",
              "      <td>136</td>\n",
              "      <td>135</td>\n",
              "      <td>134</td>\n",
              "      <td>133</td>\n",
              "      <td>134</td>\n",
              "      <td>132</td>\n",
              "      <td>129</td>\n",
              "      <td>132</td>\n",
              "      <td>134</td>\n",
              "      <td>135</td>\n",
              "      <td>135</td>\n",
              "      <td>137</td>\n",
              "      <td>139</td>\n",
              "      <td>139</td>\n",
              "      <td>139</td>\n",
              "      <td>140</td>\n",
              "      <td>141</td>\n",
              "      <td>...</td>\n",
              "      <td>114</td>\n",
              "      <td>112</td>\n",
              "      <td>89</td>\n",
              "      <td>48</td>\n",
              "      <td>133</td>\n",
              "      <td>194</td>\n",
              "      <td>182</td>\n",
              "      <td>185</td>\n",
              "      <td>184</td>\n",
              "      <td>184</td>\n",
              "      <td>182</td>\n",
              "      <td>181</td>\n",
              "      <td>172</td>\n",
              "      <td>174</td>\n",
              "      <td>177</td>\n",
              "      <td>178</td>\n",
              "      <td>178</td>\n",
              "      <td>179</td>\n",
              "      <td>181</td>\n",
              "      <td>183</td>\n",
              "      <td>187</td>\n",
              "      <td>175</td>\n",
              "      <td>165</td>\n",
              "      <td>154</td>\n",
              "      <td>118</td>\n",
              "      <td>107</td>\n",
              "      <td>100</td>\n",
              "      <td>75</td>\n",
              "      <td>96</td>\n",
              "      <td>83</td>\n",
              "      <td>47</td>\n",
              "      <td>104</td>\n",
              "      <td>194</td>\n",
              "      <td>183</td>\n",
              "      <td>186</td>\n",
              "      <td>184</td>\n",
              "      <td>184</td>\n",
              "      <td>184</td>\n",
              "      <td>182</td>\n",
              "      <td>180</td>\n",
              "    </tr>\n",
              "  </tbody>\n",
              "</table>\n",
              "<p>2 rows × 785 columns</p>\n",
              "</div>"
            ],
            "text/plain": [
              "   label  pixel1  pixel2  pixel3  ...  pixel781  pixel782  pixel783  pixel784\n",
              "0      6     149     149     150  ...       106       112       120       107\n",
              "1      5     126     128     131  ...       184       184       182       180\n",
              "\n",
              "[2 rows x 785 columns]"
            ]
          },
          "metadata": {
            "tags": []
          }
        }
      ]
    },
    {
      "cell_type": "code",
      "metadata": {
        "id": "JKaMRAGiDsSv",
        "colab_type": "code",
        "colab": {}
      },
      "source": [
        "train_Y = train['label']\n",
        "test_Y = test['label']\n",
        "train_X = train.drop(['label'],axis = 1)\n",
        "test_X = test.drop(['label'],axis = 1)"
      ],
      "execution_count": 0,
      "outputs": []
    },
    {
      "cell_type": "code",
      "metadata": {
        "id": "1Rxx2OjlEFMi",
        "colab_type": "code",
        "colab": {}
      },
      "source": [
        "train_X = train_X.astype('float32') / 255\n",
        "test_X = test_X.astype('float32')/255"
      ],
      "execution_count": 0,
      "outputs": []
    },
    {
      "cell_type": "code",
      "metadata": {
        "id": "9AlvIz1tEG9f",
        "colab_type": "code",
        "outputId": "c9f1fbbc-5c83-4276-df70-1d472f606815",
        "colab": {
          "base_uri": "https://localhost:8080/",
          "height": 225
        }
      },
      "source": [
        "display(train_Y)"
      ],
      "execution_count": 0,
      "outputs": [
        {
          "output_type": "display_data",
          "data": {
            "text/plain": [
              "0         3\n",
              "1         6\n",
              "2         2\n",
              "3         2\n",
              "4        13\n",
              "         ..\n",
              "27450    13\n",
              "27451    23\n",
              "27452    18\n",
              "27453    17\n",
              "27454    23\n",
              "Name: label, Length: 27455, dtype: int64"
            ]
          },
          "metadata": {
            "tags": []
          }
        }
      ]
    },
    {
      "cell_type": "code",
      "metadata": {
        "id": "EoeHS6MwEIwv",
        "colab_type": "code",
        "colab": {}
      },
      "source": [
        "train_X = train_X.values.reshape(27455,784)\n",
        "test_X = test_X.values.reshape(7172,784)\n",
        "train_Y = keras.utils.to_categorical(train_Y,26)\n",
        "test_Y = keras.utils.to_categorical(test_Y,26)"
      ],
      "execution_count": 0,
      "outputs": []
    },
    {
      "cell_type": "code",
      "metadata": {
        "id": "8a-mxwYXFqZf",
        "colab_type": "code",
        "outputId": "523a251b-7fe9-49cd-a7c1-8bc0b28b6fe2",
        "colab": {
          "base_uri": "https://localhost:8080/",
          "height": 141
        }
      },
      "source": [
        "model = Sequential()\n",
        "model.add(Dense(units=128,activation=\"relu\",input_shape=(784,)))\n",
        "model.add(Dense(units=128,activation=\"relu\"))\n",
        "model.add(Dense(units=128,activation=\"relu\"))\n",
        "model.add(Dense(units=26,activation=\"softmax\"))"
      ],
      "execution_count": 0,
      "outputs": [
        {
          "output_type": "stream",
          "text": [
            "WARNING:tensorflow:From /usr/local/lib/python3.6/dist-packages/keras/backend/tensorflow_backend.py:66: The name tf.get_default_graph is deprecated. Please use tf.compat.v1.get_default_graph instead.\n",
            "\n",
            "WARNING:tensorflow:From /usr/local/lib/python3.6/dist-packages/keras/backend/tensorflow_backend.py:541: The name tf.placeholder is deprecated. Please use tf.compat.v1.placeholder instead.\n",
            "\n",
            "WARNING:tensorflow:From /usr/local/lib/python3.6/dist-packages/keras/backend/tensorflow_backend.py:4432: The name tf.random_uniform is deprecated. Please use tf.random.uniform instead.\n",
            "\n"
          ],
          "name": "stdout"
        }
      ]
    },
    {
      "cell_type": "code",
      "metadata": {
        "id": "qtcl5KB8FtXv",
        "colab_type": "code",
        "outputId": "10a6b167-f4c8-4157-ca15-672844de23b1",
        "colab": {
          "base_uri": "https://localhost:8080/",
          "height": 1000
        }
      },
      "source": [
        "model.compile(optimizer=SGD(0.001),loss=\"categorical_crossentropy\",metrics=[\"accuracy\"])\n",
        "model.fit(train_X,train_Y,batch_size=32,epochs=100,verbose=1)"
      ],
      "execution_count": 0,
      "outputs": [
        {
          "output_type": "stream",
          "text": [
            "WARNING:tensorflow:From /usr/local/lib/python3.6/dist-packages/keras/optimizers.py:793: The name tf.train.Optimizer is deprecated. Please use tf.compat.v1.train.Optimizer instead.\n",
            "\n",
            "WARNING:tensorflow:From /usr/local/lib/python3.6/dist-packages/keras/backend/tensorflow_backend.py:3576: The name tf.log is deprecated. Please use tf.math.log instead.\n",
            "\n",
            "WARNING:tensorflow:From /tensorflow-1.15.0/python3.6/tensorflow_core/python/ops/math_grad.py:1424: where (from tensorflow.python.ops.array_ops) is deprecated and will be removed in a future version.\n",
            "Instructions for updating:\n",
            "Use tf.where in 2.0, which has the same broadcast rule as np.where\n",
            "WARNING:tensorflow:From /usr/local/lib/python3.6/dist-packages/keras/backend/tensorflow_backend.py:1033: The name tf.assign_add is deprecated. Please use tf.compat.v1.assign_add instead.\n",
            "\n",
            "WARNING:tensorflow:From /usr/local/lib/python3.6/dist-packages/keras/backend/tensorflow_backend.py:1020: The name tf.assign is deprecated. Please use tf.compat.v1.assign instead.\n",
            "\n",
            "WARNING:tensorflow:From /usr/local/lib/python3.6/dist-packages/keras/backend/tensorflow_backend.py:3005: The name tf.Session is deprecated. Please use tf.compat.v1.Session instead.\n",
            "\n",
            "Epoch 1/100\n",
            "WARNING:tensorflow:From /usr/local/lib/python3.6/dist-packages/keras/backend/tensorflow_backend.py:190: The name tf.get_default_session is deprecated. Please use tf.compat.v1.get_default_session instead.\n",
            "\n",
            "WARNING:tensorflow:From /usr/local/lib/python3.6/dist-packages/keras/backend/tensorflow_backend.py:197: The name tf.ConfigProto is deprecated. Please use tf.compat.v1.ConfigProto instead.\n",
            "\n",
            "WARNING:tensorflow:From /usr/local/lib/python3.6/dist-packages/keras/backend/tensorflow_backend.py:207: The name tf.global_variables is deprecated. Please use tf.compat.v1.global_variables instead.\n",
            "\n",
            "WARNING:tensorflow:From /usr/local/lib/python3.6/dist-packages/keras/backend/tensorflow_backend.py:216: The name tf.is_variable_initialized is deprecated. Please use tf.compat.v1.is_variable_initialized instead.\n",
            "\n",
            "WARNING:tensorflow:From /usr/local/lib/python3.6/dist-packages/keras/backend/tensorflow_backend.py:223: The name tf.variables_initializer is deprecated. Please use tf.compat.v1.variables_initializer instead.\n",
            "\n",
            "27455/27455 [==============================] - 11s 405us/step - loss: 3.2170 - acc: 0.0444\n",
            "Epoch 2/100\n",
            "27455/27455 [==============================] - 3s 101us/step - loss: 3.1415 - acc: 0.1061\n",
            "Epoch 3/100\n",
            "27455/27455 [==============================] - 3s 96us/step - loss: 3.0738 - acc: 0.1641\n",
            "Epoch 4/100\n",
            "27455/27455 [==============================] - 3s 109us/step - loss: 2.9959 - acc: 0.2004\n",
            "Epoch 5/100\n",
            "27455/27455 [==============================] - 3s 101us/step - loss: 2.8948 - acc: 0.2336\n",
            "Epoch 6/100\n",
            "27455/27455 [==============================] - 3s 102us/step - loss: 2.7663 - acc: 0.2671\n",
            "Epoch 7/100\n",
            "27455/27455 [==============================] - 3s 97us/step - loss: 2.6177 - acc: 0.3041\n",
            "Epoch 8/100\n",
            "27455/27455 [==============================] - 3s 99us/step - loss: 2.4594 - acc: 0.3292\n",
            "Epoch 9/100\n",
            "27455/27455 [==============================] - 3s 101us/step - loss: 2.3060 - acc: 0.3626\n",
            "Epoch 10/100\n",
            "27455/27455 [==============================] - 3s 95us/step - loss: 2.1654 - acc: 0.3837\n",
            "Epoch 11/100\n",
            "27455/27455 [==============================] - 3s 100us/step - loss: 2.0435 - acc: 0.4011\n",
            "Epoch 12/100\n",
            "27455/27455 [==============================] - 3s 100us/step - loss: 1.9400 - acc: 0.4269\n",
            "Epoch 13/100\n",
            "27455/27455 [==============================] - 3s 103us/step - loss: 1.8494 - acc: 0.4452\n",
            "Epoch 14/100\n",
            "27455/27455 [==============================] - 3s 103us/step - loss: 1.7676 - acc: 0.4672\n",
            "Epoch 15/100\n",
            "27455/27455 [==============================] - 3s 100us/step - loss: 1.6927 - acc: 0.4895\n",
            "Epoch 16/100\n",
            "27455/27455 [==============================] - 3s 107us/step - loss: 1.6223 - acc: 0.5068\n",
            "Epoch 17/100\n",
            "27455/27455 [==============================] - 3s 102us/step - loss: 1.5567 - acc: 0.5262\n",
            "Epoch 18/100\n",
            "27455/27455 [==============================] - 3s 96us/step - loss: 1.4958 - acc: 0.5459\n",
            "Epoch 19/100\n",
            "27455/27455 [==============================] - 3s 103us/step - loss: 1.4384 - acc: 0.5621\n",
            "Epoch 20/100\n",
            "27455/27455 [==============================] - 3s 105us/step - loss: 1.3880 - acc: 0.5777\n",
            "Epoch 21/100\n",
            "27455/27455 [==============================] - 3s 104us/step - loss: 1.3409 - acc: 0.5895\n",
            "Epoch 22/100\n",
            "27455/27455 [==============================] - 3s 100us/step - loss: 1.2971 - acc: 0.6011\n",
            "Epoch 23/100\n",
            "27455/27455 [==============================] - 3s 99us/step - loss: 1.2557 - acc: 0.6154\n",
            "Epoch 24/100\n",
            "27455/27455 [==============================] - 3s 92us/step - loss: 1.2168 - acc: 0.6237\n",
            "Epoch 25/100\n",
            "27455/27455 [==============================] - 3s 104us/step - loss: 1.1807 - acc: 0.6354\n",
            "Epoch 26/100\n",
            "27455/27455 [==============================] - 3s 106us/step - loss: 1.1474 - acc: 0.6456\n",
            "Epoch 27/100\n",
            "27455/27455 [==============================] - 3s 105us/step - loss: 1.1141 - acc: 0.6555\n",
            "Epoch 28/100\n",
            "27455/27455 [==============================] - 3s 107us/step - loss: 1.0833 - acc: 0.6652\n",
            "Epoch 29/100\n",
            "27455/27455 [==============================] - 3s 98us/step - loss: 1.0528 - acc: 0.6763\n",
            "Epoch 30/100\n",
            "27455/27455 [==============================] - 3s 95us/step - loss: 1.0243 - acc: 0.6858\n",
            "Epoch 31/100\n",
            "27455/27455 [==============================] - 3s 100us/step - loss: 0.9969 - acc: 0.6942\n",
            "Epoch 32/100\n",
            "27455/27455 [==============================] - 3s 100us/step - loss: 0.9702 - acc: 0.7034\n",
            "Epoch 33/100\n",
            "27455/27455 [==============================] - 3s 101us/step - loss: 0.9448 - acc: 0.7117\n",
            "Epoch 34/100\n",
            "27455/27455 [==============================] - 3s 110us/step - loss: 0.9186 - acc: 0.7213\n",
            "Epoch 35/100\n",
            "27455/27455 [==============================] - 3s 103us/step - loss: 0.8948 - acc: 0.7278\n",
            "Epoch 36/100\n",
            "27455/27455 [==============================] - 3s 107us/step - loss: 0.8717 - acc: 0.7369\n",
            "Epoch 37/100\n",
            "27455/27455 [==============================] - 3s 98us/step - loss: 0.8478 - acc: 0.7452\n",
            "Epoch 38/100\n",
            "27455/27455 [==============================] - 3s 109us/step - loss: 0.8240 - acc: 0.7533\n",
            "Epoch 39/100\n",
            "27455/27455 [==============================] - 3s 98us/step - loss: 0.8032 - acc: 0.7590\n",
            "Epoch 40/100\n",
            "27455/27455 [==============================] - 3s 110us/step - loss: 0.7811 - acc: 0.7675\n",
            "Epoch 41/100\n",
            "27455/27455 [==============================] - 3s 117us/step - loss: 0.7614 - acc: 0.7720\n",
            "Epoch 42/100\n",
            "27455/27455 [==============================] - 3s 115us/step - loss: 0.7398 - acc: 0.7816\n",
            "Epoch 43/100\n",
            "27455/27455 [==============================] - 3s 109us/step - loss: 0.7225 - acc: 0.7889\n",
            "Epoch 44/100\n",
            "27455/27455 [==============================] - 3s 109us/step - loss: 0.7009 - acc: 0.7944\n",
            "Epoch 45/100\n",
            "27455/27455 [==============================] - 3s 97us/step - loss: 0.6821 - acc: 0.8015\n",
            "Epoch 46/100\n",
            "27455/27455 [==============================] - 3s 109us/step - loss: 0.6627 - acc: 0.8097\n",
            "Epoch 47/100\n",
            "27455/27455 [==============================] - 3s 103us/step - loss: 0.6463 - acc: 0.8135\n",
            "Epoch 48/100\n",
            "27455/27455 [==============================] - 3s 107us/step - loss: 0.6289 - acc: 0.8204\n",
            "Epoch 49/100\n",
            "27455/27455 [==============================] - 3s 98us/step - loss: 0.6107 - acc: 0.8275\n",
            "Epoch 50/100\n",
            "27455/27455 [==============================] - 3s 100us/step - loss: 0.5952 - acc: 0.8315\n",
            "Epoch 51/100\n",
            "27455/27455 [==============================] - 3s 96us/step - loss: 0.5776 - acc: 0.8377\n",
            "Epoch 52/100\n",
            "27455/27455 [==============================] - 3s 105us/step - loss: 0.5625 - acc: 0.8429\n",
            "Epoch 53/100\n",
            "27455/27455 [==============================] - 3s 104us/step - loss: 0.5463 - acc: 0.8474\n",
            "Epoch 54/100\n",
            "27455/27455 [==============================] - 3s 105us/step - loss: 0.5311 - acc: 0.8523\n",
            "Epoch 55/100\n",
            "27455/27455 [==============================] - 3s 99us/step - loss: 0.5177 - acc: 0.8567\n",
            "Epoch 56/100\n",
            "27455/27455 [==============================] - 3s 104us/step - loss: 0.5033 - acc: 0.8600\n",
            "Epoch 57/100\n",
            "27455/27455 [==============================] - 3s 98us/step - loss: 0.4883 - acc: 0.8652\n",
            "Epoch 58/100\n",
            "27455/27455 [==============================] - 3s 100us/step - loss: 0.4743 - acc: 0.8716\n",
            "Epoch 59/100\n",
            "27455/27455 [==============================] - 3s 95us/step - loss: 0.4617 - acc: 0.8739\n",
            "Epoch 60/100\n",
            "27455/27455 [==============================] - 3s 106us/step - loss: 0.4478 - acc: 0.8799\n",
            "Epoch 61/100\n",
            "27455/27455 [==============================] - 3s 108us/step - loss: 0.4350 - acc: 0.8832\n",
            "Epoch 62/100\n",
            "27455/27455 [==============================] - 3s 105us/step - loss: 0.4220 - acc: 0.8885\n",
            "Epoch 63/100\n",
            "27455/27455 [==============================] - 3s 106us/step - loss: 0.4106 - acc: 0.8916\n",
            "Epoch 64/100\n",
            "27455/27455 [==============================] - 3s 95us/step - loss: 0.3991 - acc: 0.8936\n",
            "Epoch 65/100\n",
            "27455/27455 [==============================] - 3s 98us/step - loss: 0.3869 - acc: 0.8978\n",
            "Epoch 66/100\n",
            "27455/27455 [==============================] - 3s 101us/step - loss: 0.3749 - acc: 0.9028\n",
            "Epoch 67/100\n",
            "27455/27455 [==============================] - 3s 99us/step - loss: 0.3645 - acc: 0.9072\n",
            "Epoch 68/100\n",
            "27455/27455 [==============================] - 3s 108us/step - loss: 0.3535 - acc: 0.9101\n",
            "Epoch 69/100\n",
            "27455/27455 [==============================] - 3s 106us/step - loss: 0.3440 - acc: 0.9109\n",
            "Epoch 70/100\n",
            "27455/27455 [==============================] - 3s 106us/step - loss: 0.3317 - acc: 0.9176\n",
            "Epoch 71/100\n",
            "27455/27455 [==============================] - 3s 101us/step - loss: 0.3235 - acc: 0.9188\n",
            "Epoch 72/100\n",
            "27455/27455 [==============================] - 3s 101us/step - loss: 0.3138 - acc: 0.9230\n",
            "Epoch 73/100\n",
            "27455/27455 [==============================] - 3s 104us/step - loss: 0.3047 - acc: 0.9259\n",
            "Epoch 74/100\n",
            "27455/27455 [==============================] - 3s 98us/step - loss: 0.2940 - acc: 0.9292\n",
            "Epoch 75/100\n",
            "27455/27455 [==============================] - 3s 99us/step - loss: 0.2860 - acc: 0.9320\n",
            "Epoch 76/100\n",
            "27455/27455 [==============================] - 3s 101us/step - loss: 0.2772 - acc: 0.9356\n",
            "Epoch 77/100\n",
            "27455/27455 [==============================] - 3s 94us/step - loss: 0.2685 - acc: 0.9394\n",
            "Epoch 78/100\n",
            "27455/27455 [==============================] - 3s 101us/step - loss: 0.2605 - acc: 0.9412\n",
            "Epoch 79/100\n",
            "27455/27455 [==============================] - 3s 110us/step - loss: 0.2515 - acc: 0.9462\n",
            "Epoch 80/100\n",
            "27455/27455 [==============================] - 3s 107us/step - loss: 0.2445 - acc: 0.9485\n",
            "Epoch 81/100\n",
            "27455/27455 [==============================] - 3s 100us/step - loss: 0.2365 - acc: 0.9496\n",
            "Epoch 82/100\n",
            "27455/27455 [==============================] - 3s 97us/step - loss: 0.2292 - acc: 0.9520\n",
            "Epoch 83/100\n",
            "27455/27455 [==============================] - 3s 103us/step - loss: 0.2223 - acc: 0.9553\n",
            "Epoch 84/100\n",
            "27455/27455 [==============================] - 3s 103us/step - loss: 0.2148 - acc: 0.9563\n",
            "Epoch 85/100\n",
            "27455/27455 [==============================] - 3s 95us/step - loss: 0.2087 - acc: 0.9583\n",
            "Epoch 86/100\n",
            "27455/27455 [==============================] - 3s 105us/step - loss: 0.2023 - acc: 0.9612\n",
            "Epoch 87/100\n",
            "27455/27455 [==============================] - 3s 102us/step - loss: 0.1962 - acc: 0.9613\n",
            "Epoch 88/100\n",
            "27455/27455 [==============================] - 3s 101us/step - loss: 0.1902 - acc: 0.9637\n",
            "Epoch 89/100\n",
            "27455/27455 [==============================] - 3s 99us/step - loss: 0.1838 - acc: 0.9670\n",
            "Epoch 90/100\n",
            "27455/27455 [==============================] - 3s 102us/step - loss: 0.1783 - acc: 0.9671\n",
            "Epoch 91/100\n",
            "27455/27455 [==============================] - 3s 105us/step - loss: 0.1726 - acc: 0.9688\n",
            "Epoch 92/100\n",
            "27455/27455 [==============================] - 3s 97us/step - loss: 0.1669 - acc: 0.9715\n",
            "Epoch 93/100\n",
            "27455/27455 [==============================] - 3s 105us/step - loss: 0.1623 - acc: 0.9720\n",
            "Epoch 94/100\n",
            "27455/27455 [==============================] - 3s 103us/step - loss: 0.1573 - acc: 0.9746\n",
            "Epoch 95/100\n",
            "27455/27455 [==============================] - 3s 101us/step - loss: 0.1520 - acc: 0.9752\n",
            "Epoch 96/100\n",
            "27455/27455 [==============================] - 3s 101us/step - loss: 0.1482 - acc: 0.9766\n",
            "Epoch 97/100\n",
            "27455/27455 [==============================] - 3s 100us/step - loss: 0.1427 - acc: 0.9786\n",
            "Epoch 98/100\n",
            "27455/27455 [==============================] - 3s 98us/step - loss: 0.1382 - acc: 0.9798\n",
            "Epoch 99/100\n",
            "27455/27455 [==============================] - 3s 107us/step - loss: 0.1341 - acc: 0.9807\n",
            "Epoch 100/100\n",
            "27455/27455 [==============================] - 3s 109us/step - loss: 0.1297 - acc: 0.9819\n"
          ],
          "name": "stdout"
        },
        {
          "output_type": "execute_result",
          "data": {
            "text/plain": [
              "<keras.callbacks.History at 0x7fd83f6ba8d0>"
            ]
          },
          "metadata": {
            "tags": []
          },
          "execution_count": 13
        }
      ]
    },
    {
      "cell_type": "code",
      "metadata": {
        "id": "7CHDLkbCFyC4",
        "colab_type": "code",
        "outputId": "c4729061-f45b-4597-bc91-f4fec06785ef",
        "colab": {
          "base_uri": "https://localhost:8080/",
          "height": 52
        }
      },
      "source": [
        "accuracy = model.evaluate(x=test_X,y=test_Y,batch_size=32)\n",
        "print(\"Accuracy: \",accuracy[1])"
      ],
      "execution_count": 0,
      "outputs": [
        {
          "output_type": "stream",
          "text": [
            "7172/7172 [==============================] - 0s 42us/step\n",
            "Accuracy:  0.6910206358059119\n"
          ],
          "name": "stdout"
        }
      ]
    },
    {
      "cell_type": "code",
      "metadata": {
        "id": "O4EPsVlZG2KY",
        "colab_type": "code",
        "outputId": "dd82b17e-967a-445e-8421-a827162807eb",
        "colab": {
          "base_uri": "https://localhost:8080/",
          "height": 35
        }
      },
      "source": [
        "img = test_X[6]\n",
        "test_img = img.reshape((1,784))\n",
        "img_class = model.predict_classes(test_img)\n",
        "prediction = img_class[0]\n",
        "classname = img_class[0]\n",
        "print(\"Class: \",classname)"
      ],
      "execution_count": 0,
      "outputs": [
        {
          "output_type": "stream",
          "text": [
            "Class:  10\n"
          ],
          "name": "stdout"
        }
      ]
    },
    {
      "cell_type": "code",
      "metadata": {
        "id": "eGj0eaIjG5gP",
        "colab_type": "code",
        "outputId": "2eb1b6c5-f6e3-44a9-ea28-908ef0d3304d",
        "colab": {
          "base_uri": "https://localhost:8080/",
          "height": 281
        }
      },
      "source": [
        "img = img.reshape((28,28))\n",
        "plt.imshow(img)\n",
        "plt.title(classname)\n",
        "plt.show()"
      ],
      "execution_count": 0,
      "outputs": [
        {
          "output_type": "display_data",
          "data": {
            "image/png": "[encoded data removed]",
            "text/plain": [
              "<Figure size 432x288 with 1 Axes>"
            ]
          },
          "metadata": {
            "tags": []
          }
        }
      ]
    },
    {
      "cell_type": "code",
      "metadata": {
        "id": "BHCY6pqWG81y",
        "colab_type": "code",
        "outputId": "4d8e8faf-21df-4562-dcff-54eaabb3a87a",
        "colab": {
          "base_uri": "https://localhost:8080/",
          "height": 35
        }
      },
      "source": [
        "model.save_weights('model_weights.h5')\n",
        "weights_file = drive.CreateFile({'title' : 'model_weights.h5'})\n",
        "weights_file.SetContentFile('model_weights.h5')\n",
        "weights_file.Upload()\n",
        "drive.CreateFile({'id': weights_file.get('id')})"
      ],
      "execution_count": 0,
      "outputs": [
        {
          "output_type": "execute_result",
          "data": {
            "text/plain": [
              "GoogleDriveFile({'id': '14DLIi_STeTMB2E3S2lDpFqydzfkyinuq'})"
            ]
          },
          "metadata": {
            "tags": []
          },
          "execution_count": 17
        }
      ]
    },
    {
      "cell_type": "code",
      "metadata": {
        "id": "VYaU-O03HoWe",
        "colab_type": "code",
        "outputId": "8e93edb8-6be0-462d-f92f-87bcb4067944",
        "colab": {
          "base_uri": "https://localhost:8080/",
          "height": 35
        }
      },
      "source": [
        "model.save('model.h5')\n",
        "weights_file = drive.CreateFile({'title' : 'model.h5'})\n",
        "weights_file.SetContentFile('model.h5')\n",
        "weights_file.Upload()\n",
        "drive.CreateFile({'id': weights_file.get('id')})\n"
      ],
      "execution_count": 0,
      "outputs": [
        {
          "output_type": "execute_result",
          "data": {
            "text/plain": [
              "GoogleDriveFile({'id': '10iAyVZVrAzRo8jJVgsgp0p5gOuVAmgaF'})"
            ]
          },
          "metadata": {
            "tags": []
          },
          "execution_count": 18
        }
      ]
    },
    {
      "cell_type": "code",
      "metadata": {
        "id": "SD51cNW8HrDC",
        "colab_type": "code",
        "outputId": "4c556b1e-02b8-4da9-f209-9550726a18b8",
        "colab": {
          "base_uri": "https://localhost:8080/",
          "height": 87
        }
      },
      "source": [
        "!pip install h5py pyyaml"
      ],
      "execution_count": 0,
      "outputs": [
        {
          "output_type": "stream",
          "text": [
            "Requirement already satisfied: h5py in /usr/local/lib/python3.6/dist-packages (2.8.0)\n",
            "Requirement already satisfied: pyyaml in /usr/local/lib/python3.6/dist-packages (3.13)\n",
            "Requirement already satisfied: numpy>=1.7 in /usr/local/lib/python3.6/dist-packages (from h5py) (1.18.2)\n",
            "Requirement already satisfied: six in /usr/local/lib/python3.6/dist-packages (from h5py) (1.12.0)\n"
          ],
          "name": "stdout"
        }
      ]
    },
    {
      "cell_type": "code",
      "metadata": {
        "id": "so01P0iWH3-C",
        "colab_type": "code",
        "colab": {}
      },
      "source": [
        ""
      ],
      "execution_count": 0,
      "outputs": []
    }
  ]
}